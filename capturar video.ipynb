{
 "cells": [
  {
   "cell_type": "code",
   "execution_count": 2,
   "id": "0a38321f",
   "metadata": {},
   "outputs": [],
   "source": [
    "import cv2\n",
    "captura = cv2.VideoCapture(1)\n",
    "salida = cv2.VideoWriter('videoSalida.avi',cv2.VideoWriter_fourcc(*'XVID'),20.0,(640,480))\n",
    "while (captura.isOpened()):\n",
    "  ret, imagen = captura.read()\n",
    "  if ret == True:\n",
    "    cv2.imshow('video', imagen)\n",
    "    salida.write(imagen)\n",
    "    if cv2.waitKey(1) & 0xFF == ord('s'):\n",
    "      break\n",
    "  else: break\n",
    "captura.release()\n",
    "salida.release()\n",
    "cv2.destroyAllWindows()"
   ]
  },
  {
   "cell_type": "code",
   "execution_count": null,
   "id": "384307ab",
   "metadata": {},
   "outputs": [],
   "source": []
  }
 ],
 "metadata": {
  "kernelspec": {
   "display_name": "Python 3 (ipykernel)",
   "language": "python",
   "name": "python3"
  },
  "language_info": {
   "codemirror_mode": {
    "name": "ipython",
    "version": 3
   },
   "file_extension": ".py",
   "mimetype": "text/x-python",
   "name": "python",
   "nbconvert_exporter": "python",
   "pygments_lexer": "ipython3",
   "version": "3.10.11"
  }
 },
 "nbformat": 4,
 "nbformat_minor": 5
}
